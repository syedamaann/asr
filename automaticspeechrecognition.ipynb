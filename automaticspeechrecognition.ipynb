{
 "cells": [
  {
   "cell_type": "code",
   "execution_count": 72,
   "id": "79b846ce-af7e-4e17-a63e-c8a83507930a",
   "metadata": {},
   "outputs": [],
   "source": [
    "from transformers.utils import logging\n",
    "logging.set_verbosity_error()"
   ]
  },
  {
   "cell_type": "code",
   "execution_count": 73,
   "id": "4240309a-5c2e-4150-980b-3cd139460ce3",
   "metadata": {},
   "outputs": [],
   "source": [
    "from datasets import load_dataset"
   ]
  },
  {
   "cell_type": "code",
   "execution_count": 74,
   "id": "d15f0519-5e5e-45ff-ae96-c00cdb712f89",
   "metadata": {},
   "outputs": [],
   "source": [
    "dataset = load_dataset(\"librispeech_asr\",\n",
    "                       split=\"train.clean.100\",\n",
    "                       streaming=True,\n",
    "                       trust_remote_code=True)"
   ]
  },
  {
   "cell_type": "code",
   "execution_count": 75,
   "id": "d2fc42b6-7f97-4059-b450-e1a074cde626",
   "metadata": {},
   "outputs": [],
   "source": [
    "example = next(iter(dataset))"
   ]
  },
  {
   "cell_type": "code",
   "execution_count": 76,
   "id": "a0677707-c5fb-4480-a36a-0857b9a3bf2e",
   "metadata": {},
   "outputs": [],
   "source": [
    "from transformers import pipeline"
   ]
  },
  {
   "cell_type": "code",
   "execution_count": 77,
   "id": "a0009eeb-2991-4ea7-9421-c19f2a75f930",
   "metadata": {},
   "outputs": [],
   "source": [
    "asr = pipeline(\"automatic-speech-recognition\", model=\"distil-whisper/distil-small.en\")"
   ]
  },
  {
   "cell_type": "code",
   "execution_count": 78,
   "id": "47aec8c8-a65f-4d8f-b96d-6ec15ebeea13",
   "metadata": {},
   "outputs": [],
   "source": [
    "import soundfile as sf\n",
    "import io"
   ]
  },
  {
   "cell_type": "code",
   "execution_count": 79,
   "id": "20d24bdd-1480-4e6b-b43e-a1cd5e63ad04",
   "metadata": {},
   "outputs": [],
   "source": [
    "audio, sampling_rate = sf.read('harvard.wav')"
   ]
  },
  {
   "cell_type": "code",
   "execution_count": 80,
   "id": "780a57f6-90ac-498a-9f38-db1361b5bdb2",
   "metadata": {},
   "outputs": [],
   "source": [
    "import numpy as np\n",
    "\n",
    "audio_transposed = np.transpose(audio)"
   ]
  },
  {
   "cell_type": "code",
   "execution_count": 81,
   "id": "bf837c62-b073-469c-a702-eab0784843a2",
   "metadata": {},
   "outputs": [],
   "source": [
    "import librosa"
   ]
  },
  {
   "cell_type": "code",
   "execution_count": 82,
   "id": "5f21c4ba-0c48-41bc-8773-e7667fa9e502",
   "metadata": {},
   "outputs": [],
   "source": [
    "audio_mono = librosa.to_mono(audio_transposed)"
   ]
  },
  {
   "cell_type": "code",
   "execution_count": 83,
   "id": "342ce8ce-05f2-4156-a2bc-81e2067e3cb8",
   "metadata": {},
   "outputs": [],
   "source": [
    "audio_16KHz = librosa.resample(audio_mono,\n",
    "                               orig_sr=sampling_rate,\n",
    "                               target_sr=16000)"
   ]
  },
  {
   "cell_type": "code",
   "execution_count": 91,
   "id": "3dc3c60c-28d7-4702-a98e-41bc13a809f0",
   "metadata": {},
   "outputs": [
    {
     "name": "stdout",
     "output_type": "stream",
     "text": [
      "Running on local URL:  http://127.0.0.1:7865\n",
      "Running on public URL: https://5154c14c171a0b2125.gradio.live\n",
      "\n",
      "This share link expires in 72 hours. For free permanent hosting and GPU upgrades, run `gradio deploy` from Terminal to deploy to Spaces (https://huggingface.co/spaces)\n"
     ]
    },
    {
     "data": {
      "text/html": [
       "<div><iframe src=\"https://5154c14c171a0b2125.gradio.live\" width=\"100%\" height=\"500\" allow=\"autoplay; camera; microphone; clipboard-read; clipboard-write;\" frameborder=\"0\" allowfullscreen></iframe></div>"
      ],
      "text/plain": [
       "<IPython.core.display.HTML object>"
      ]
     },
     "metadata": {},
     "output_type": "display_data"
    },
    {
     "data": {
      "text/plain": []
     },
     "execution_count": 91,
     "metadata": {},
     "output_type": "execute_result"
    }
   ],
   "source": [
    "import gradio as gr\n",
    "import logging\n",
    "\n",
    "logging.basicConfig(level=logging.ERROR)\n",
    "\n",
    "def transcribe_long_form(filepath):\n",
    "    if filepath is None:\n",
    "        logging.error(\"No audio file provided.\")\n",
    "        return \"Error: No audio file provided.\"\n",
    "    try:\n",
    "        output = asr(filepath, max_new_tokens=256, chunk_length_s=30, batch_size=8)\n",
    "        return output[\"text\"]\n",
    "    except Exception as e:\n",
    "        logging.error(f\"Transcription failed: {e}\")\n",
    "        return f\"Error: {e}\"\n",
    "\n",
    "mic_transcribe = gr.Interface(\n",
    "    fn=transcribe_long_form,\n",
    "    inputs=gr.Audio(sources=\"microphone\", type=\"filepath\"),\n",
    "    outputs=gr.Textbox(label=\"Transcription\", lines=3),\n",
    "    allow_flagging=\"never\")\n",
    "\n",
    "file_transcribe = gr.Interface(\n",
    "    fn=transcribe_long_form,\n",
    "    inputs=gr.Audio(sources=\"upload\", type=\"filepath\"),\n",
    "    outputs=gr.Textbox(label=\"Transcription\", lines=3),\n",
    "    allow_flagging=\"never\",\n",
    ")\n",
    "\n",
    "with gr.Blocks() as demo:\n",
    "    gr.TabbedInterface(\n",
    "        [mic_transcribe, file_transcribe],\n",
    "        [\"Transcribe Microphone\", \"Transcribe Audio File\"],\n",
    "    )\n",
    "\n",
    "demo.launch(share=True)"
   ]
  },
  {
   "cell_type": "code",
   "execution_count": null,
   "id": "48d44617-e357-42a6-96fe-598eebeeca0e",
   "metadata": {},
   "outputs": [
    {
     "name": "stdout",
     "output_type": "stream",
     "text": [
      "Need \u001b[32m'write'\u001b[0m access token to create a Spaces repo.\n",
      "\n",
      "    _|    _|  _|    _|    _|_|_|    _|_|_|  _|_|_|  _|      _|    _|_|_|      _|_|_|_|    _|_|      _|_|_|  _|_|_|_|\n",
      "    _|    _|  _|    _|  _|        _|          _|    _|_|    _|  _|            _|        _|    _|  _|        _|\n",
      "    _|_|_|_|  _|    _|  _|  _|_|  _|  _|_|    _|    _|  _|  _|  _|  _|_|      _|_|_|    _|_|_|_|  _|        _|_|_|\n",
      "    _|    _|  _|    _|  _|    _|  _|    _|    _|    _|    _|_|  _|    _|      _|        _|    _|  _|        _|\n",
      "    _|    _|    _|_|      _|_|_|    _|_|_|  _|_|_|  _|      _|    _|_|_|      _|        _|    _|    _|_|_|  _|_|_|_|\n",
      "\n",
      "    A token is already saved on your machine. Run `huggingface-cli whoami` to get more information or `huggingface-cli logout` if you want to log out.\n",
      "    Setting a new token will erase the existing one.\n",
      "    To login, `huggingface_hub` requires a token generated from https://huggingface.co/settings/tokens .\n",
      "Enter your token (input will not be visible): "
     ]
    }
   ],
   "source": []
  },
  {
   "cell_type": "code",
   "execution_count": null,
   "id": "a57260a8-d2ba-4f83-b19e-62e39fb0588e",
   "metadata": {},
   "outputs": [],
   "source": []
  }
 ],
 "metadata": {
  "kernelspec": {
   "display_name": "Python 3 (ipykernel)",
   "language": "python",
   "name": "python3"
  },
  "language_info": {
   "codemirror_mode": {
    "name": "ipython",
    "version": 3
   },
   "file_extension": ".py",
   "mimetype": "text/x-python",
   "name": "python",
   "nbconvert_exporter": "python",
   "pygments_lexer": "ipython3",
   "version": "3.11.0"
  }
 },
 "nbformat": 4,
 "nbformat_minor": 5
}
